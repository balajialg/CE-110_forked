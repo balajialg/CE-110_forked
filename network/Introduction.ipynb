{
 "cells": [
  {
   "cell_type": "markdown",
   "metadata": {},
   "source": [
    "\n",
    "# Lab 1: Introduction to Data Science in Python\n",
    "<img src=\"https://data.berkeley.edu/sites/default/files/styles/openberkeley_brand_widgets_rectangle/public/john_and_ani_community_photo_dsc_7214.jpg?itok=6Hjv1irR\" style=\"width: 500px; height: 350px;\"/>\n",
    "\n",
    "\n",
    "### Table of Contents\n",
    "<a href='#section 0'>Welcome to Jupyter Notebooks!</a>\n",
    "\n",
    "1.  <a href='#section 1'>The Python Programming Language</a>\n",
    "\n",
    "    a. <a href='#subsection 1a'>Expressions</a> and <a href='#subsection error'>Errors</a>\n",
    "\n",
    "    b. <a href='#subsection 1b'>Names</a>\n",
    "\n",
    "    c. <a href='#subsection 1c'>Orders of Operations</a>\n",
    "\n",
    "    d. <a href='#subsection 1d'>Dot Notation</a>\n",
    "<br><br>\n",
    "2. <a href='#section 2'>Tables</a>\n",
    "\n",
    "    a. <a href='#subsection 2a'>Transformations</a>\n",
    "    \n",
    "\n",
    "3. <a href='#section 3'>Barplots</a>"
   ]
  },
  {
   "cell_type": "markdown",
   "metadata": {},
   "source": [
    "## The Jupyter  Notebook <a id='section 0'></a>\n",
    "\n",
    "Welcome to the Jupyter Notebook! **Notebooks** are documents that can contain text, code, visualizations, and more. \n",
    "\n",
    "A notebook is composed of rectangular sections called **cells**. There are 2 kinds of cells: markdown and code. A **markdown cell**, such as this one, contains text. A **code cell** contains code in Python, a programming language that we will be using for the remainder of this module. You can select any cell by clicking it once. After a cell is selected, you can navigate the notebook using the up and down arrow keys.\n",
    "\n",
    "To run a code cell once it's been selected, \n",
    "- press Shift-Enter, or\n",
    "- click the Run button in the toolbar at the top of the screen. \n",
    "\n",
    "If a code cell is running, you will see an asterisk (\\*) appear in the square brackets to the left of the cell. Once the cell has finished running, a number will replace the asterisk and any output from the code will appear under the cell."
   ]
  },
  {
   "cell_type": "code",
   "execution_count": null,
   "metadata": {
    "scrolled": true
   },
   "outputs": [],
   "source": [
    "# run this cell\n",
    "print(\"Hello World!\")"
   ]
  },
  {
   "cell_type": "markdown",
   "metadata": {},
   "source": [
    "You'll notice that many code cells contain lines of blue text that start with a `#`. These are *comments*. Comments often contain helpful information about what the code does or what you are supposed to do in the cell. The leading `#` tells the computer to ignore them."
   ]
  },
  {
   "cell_type": "markdown",
   "metadata": {},
   "source": [
    "#### Editing\n",
    "\n",
    "You can edit a Markdown cell by clicking it twice. Text in Markdown cells is written in [**Markdown**](https://daringfireball.net/projects/markdown/), a formatting syntax for plain text, so you may see some funky symbols when you edit a text cell. \n",
    "\n",
    "Once you've made your changes, you can exit text editing mode by running the cell. Edit the next cell to fix the misspelling."
   ]
  },
  {
   "cell_type": "markdown",
   "metadata": {},
   "source": [
    "Go Baers!"
   ]
  },
  {
   "cell_type": "markdown",
   "metadata": {},
   "source": [
    "Code cells can be edited any time after they are highlighted. Try editing the next code cell to print your name."
   ]
  },
  {
   "cell_type": "code",
   "execution_count": null,
   "metadata": {
    "scrolled": true
   },
   "outputs": [],
   "source": [
    "# edit the code to print your name\n",
    "print(\"Hello: my name is NAME\")"
   ]
  },
  {
   "cell_type": "markdown",
   "metadata": {},
   "source": [
    "#### Saving and Loading\n",
    "\n",
    "Your notebook can record all of your text and code edits, as well as any graphs you generate or calculations you make. You can save the notebook in its current state by clicking Control-S, clicking the floppy disc icon in the toolbar at the top of the page, or by going to the File menu and selecting \"Save and Checkpoint\".\n",
    "\n",
    "The next time you open the notebook, it will look the same as when you last saved it.\n",
    "\n",
    "**Note:** after loading a notebook you will see all the outputs (graphs, computations, etc) from your last session, but you won't be able to use any variables you assigned or functions you defined. You can get the functions and variables back by re-running the cells where they were defined- the easiest way is to highlight the cell where you left off work, then go to the Cell menu at the top of the screen and click \"Run all above\". You can also use this menu to run all cells in the notebook by clicking \"Run all\"."
   ]
  },
  {
   "cell_type": "markdown",
   "metadata": {},
   "source": [
    "#### Completing the Notebooks\n",
    "\n",
    "As you navigate the notebooks, you'll see cells with bold, all-capitalized headings that need to be filled in to complete the notebook. There are two types:\n",
    "<div class=\"alert alert-warning\">\n",
    "<b>EXERCISE</b> cells require you to write code to solve a problem, or write short responses related to analyzing a graph or the result of a computation\n",
    "</div>\n",
    "\n",
    "<div class=\"alert alert-info\">\n",
    "<b>PRACTICE</b> cells provide spaces to try out new coding skills at your own pace, unrelated to the case study. Since each coding skill taught in these notebooks is necessary for analyzing the cases, practice cells are a good way to get comfortable before applying those skills to real data.\n",
    "</div>"
   ]
  },
  {
   "cell_type": "markdown",
   "metadata": {},
   "source": [
    "Before we begin, we'll need a few extra tools to conduct our analysis. Run the next cell to load some code packages that we'll use later. \n",
    "\n",
    "Note: this cell **MUST** be run in order for most of the rest of the notebook to work."
   ]
  },
  {
   "cell_type": "code",
   "execution_count": 1,
   "metadata": {
    "scrolled": true
   },
   "outputs": [
    {
     "name": "stdout",
     "output_type": "stream",
     "text": [
      "Collecting numpy==1.16.* (from -r requirements (line 1))\n",
      "  Downloading https://files.pythonhosted.org/packages/2e/11/f006363050b24fb19a235e5efd219e7ac549398d531110d80b8f2ba3a909/numpy-1.16.3-cp36-cp36m-win_amd64.whl (11.9MB)\n",
      "Collecting matplotlib==3.* (from -r requirements (line 2))\n",
      "  Downloading https://files.pythonhosted.org/packages/21/4c/35fa1837a705f33621604a1967b1505bd3f695940fdf02fad77ef11de196/matplotlib-3.0.3-cp36-cp36m-win_amd64.whl (9.1MB)\n",
      "Collecting pandas==0.23.4 (from -r requirements (line 3))\n",
      "  Using cached https://files.pythonhosted.org/packages/0e/67/def5bfaf4d3324fdb89048889ec523c0903c5efab1a64c8dbe0ac8eec13c/pandas-0.23.4-cp36-cp36m-win_amd64.whl\n",
      "Requirement already satisfied: datascience==0.10.6 in c:\\users\\keiko\\anaconda3\\envs\\discovery\\lib\\site-packages (from -r requirements (line 4)) (0.10.6)\n",
      "Requirement already satisfied: pydot==1.4.1 in c:\\users\\keiko\\anaconda3\\envs\\discovery\\lib\\site-packages (from -r requirements (line 5)) (1.4.1)\n",
      "Collecting networkx==2.3 (from -r requirements (line 6))\n",
      "  Downloading https://files.pythonhosted.org/packages/85/08/f20aef11d4c343b557e5de6b9548761811eb16e438cee3d32b1c66c8566b/networkx-2.3.zip (1.7MB)\n",
      "Collecting scipy==1.2.1 (from -r requirements (line 7))\n",
      "  Downloading https://files.pythonhosted.org/packages/b9/a2/62f77d2d3c42364d45ba714b4bdf7e1c4dfa67091dc9f614fa5a948b4fb4/scipy-1.2.1-cp36-cp36m-win_amd64.whl (30.2MB)\n",
      "Collecting math==3.7.3 (from -r requirements (line 8))\n"
     ]
    },
    {
     "name": "stderr",
     "output_type": "stream",
     "text": [
      "  ERROR: Could not find a version that satisfies the requirement math==3.7.3 (from -r requirements (line 8)) (from versions: none)\n",
      "ERROR: No matching distribution found for math==3.7.3 (from -r requirements (line 8))\n"
     ]
    }
   ],
   "source": [
    "# dependencies: THIS CELL MUST BE RUN\n",
    "!pip install -r requirements\n",
    "\n",
    "from datascience import *\n",
    "import numpy as np\n",
    "import math\n",
    "import matplotlib.pyplot as plt\n",
    "plt.style.use('fivethirtyeight')\n",
    "%matplotlib inline"
   ]
  },
  {
   "cell_type": "markdown",
   "metadata": {},
   "source": [
    "# 1. Python <a id='section 1'></a>\n",
    "\n",
    "**Python** is  programming language- a way for us to communicate with the computer and give it instructions. \n",
    "\n",
    "Just like any language, Python has a *vocabulary* made up of words it can understand, and a *syntax* giving the rules for how to structure communication.\n"
   ]
  },
  {
   "cell_type": "markdown",
   "metadata": {},
   "source": [
    "#### Errors <a id=\"subsection error\"></a>\n",
    "\n",
    "Python is a language, and like natural human languages, it has rules.  It differs from natural language in two important ways:\n",
    "1. The rules are *simple*.  You can learn most of them in a few weeks and gain reasonable proficiency with the language in a semester.\n",
    "2. The rules are *rigid*.  If you're proficient in a natural language, you can understand a non-proficient speaker, glossing over small mistakes.  A computer running Python code is not smart enough to do that.\n",
    "\n",
    "Whenever you write code, you will often accientally break some of these rules. When you run a code cell that doesn't follow every rule exactly, Python will produce an **error message**.\n",
    "\n",
    "Errors are *normal*; experienced programmers make many errors every day. Errors are also *not dangerous*; you will not break your computer by making an error (in fact, errors are a big part of how you learn a coding language). An error is nothing more than a message from the computer saying it doesn't understand you and asking you to rewrite your command.\n",
    "\n",
    "We have made an error in the next cell.  Run it and see what happens."
   ]
  },
  {
   "cell_type": "code",
   "execution_count": null,
   "metadata": {
    "scrolled": true
   },
   "outputs": [],
   "source": [
    "print(\"This line is missing something.\""
   ]
  },
  {
   "cell_type": "markdown",
   "metadata": {},
   "source": [
    "You should see something like this (minus our annotations):\n",
    "\n",
    "<img src=\"images/error.jpg\"/>\n",
    "\n",
    "The last line of the error output attempts to tell you what went wrong.  The *syntax* of a language is its structure, and this `SyntaxError` tells you that you have created an illegal structure.  \"`EOF`\" means \"end of file,\" so the message is saying Python expected you to write something more (in this case, a right parenthesis) before finishing the cell.\n",
    "\n",
    "There's a lot of terminology in programming languages, but you don't need to know it all in order to program effectively. If you see a cryptic message like this, you can often get by without deciphering it.  (Of course, if you're frustrated, you can usually find out by searching for the error message online or posting on the Piazza.)\n"
   ]
  },
  {
   "cell_type": "markdown",
   "metadata": {},
   "source": [
    "\n",
    "### 1a. Data <a id='subsection 1a'></a>\n",
    "**Data** is information- the \"stuff\" we manipulate to make and test hypotheses. \n",
    "\n",
    "Almost all data you will work with broadly falls into two types: numbers and text. *Numerical data* shows up green in code cells and can be positive, negative, or include a decimal."
   ]
  },
  {
   "cell_type": "code",
   "execution_count": null,
   "metadata": {
    "scrolled": true
   },
   "outputs": [],
   "source": [
    "# Numerical data\n",
    "\n",
    "4\n",
    "\n",
    "87623000983\n",
    "\n",
    "-667\n",
    "\n",
    "3.14159"
   ]
  },
  {
   "cell_type": "markdown",
   "metadata": {},
   "source": [
    "Text data (also called *strings*) shows up red in code cells. Strings are enclosed in double or single quotes. Note that numbers can appear in strings."
   ]
  },
  {
   "cell_type": "code",
   "execution_count": null,
   "metadata": {
    "scrolled": true
   },
   "outputs": [],
   "source": [
    "# Strings\n",
    "\"a\"\n",
    "\n",
    "\"Hi there!\"\n",
    "\n",
    "\"We hold these truths to be self-evident that all men are created equal.\"\n",
    "\n",
    "# this is a string, NOT numerical data\n",
    "\"3.14159\""
   ]
  },
  {
   "cell_type": "markdown",
   "metadata": {},
   "source": [
    "**Arrays**: when you want to collect a list of data (numbers, text, etc) in one place, you can make what's called an array. The function `make_array()` takes in any number of data entries and makes this ordered collection out of them. For our purposes, it's just a convenient container to organize data in the same place."
   ]
  },
  {
   "cell_type": "code",
   "execution_count": null,
   "metadata": {
    "scrolled": true
   },
   "outputs": [],
   "source": [
    "# Temperatures (F): individual values\n",
    "\n",
    "60\n",
    "78\n",
    "67\n",
    "\n",
    "#Temperatures (F): collected in an array\n",
    "make_array(60,78,67)"
   ]
  },
  {
   "cell_type": "markdown",
   "metadata": {},
   "source": [
    "<div class=\"alert alert-info\">\n",
    "<b>PRACTICE:</b> If you're new to python and coding, one of the best ways to get comfortable is to practice. Try inputting different numbers of values in the `make_array()` function. Can you make a list of texts? What happens if you try to combine numbers *and* texts in the same array?\n",
    "    </div>"
   ]
  },
  {
   "cell_type": "code",
   "execution_count": null,
   "metadata": {
    "scrolled": true
   },
   "outputs": [],
   "source": [
    "#Optional\n",
    "\n"
   ]
  },
  {
   "cell_type": "markdown",
   "metadata": {},
   "source": [
    "### 1a. Expressions <a id='subsection 1a'></a>\n",
    "\n",
    "A bit of communication in Python is called an **expression**. It tells the computer what to do with the data we give it.\n",
    "\n",
    "Here's an example of an expression."
   ]
  },
  {
   "cell_type": "code",
   "execution_count": null,
   "metadata": {
    "scrolled": true
   },
   "outputs": [],
   "source": [
    "# an expression\n",
    "14 + 20"
   ]
  },
  {
   "cell_type": "markdown",
   "metadata": {},
   "source": [
    "\n",
    "When you run the cell, the computer **evaluates** the expression and prints the result. Note that only the last line in a code cell will be printed, unless you explicitly tell the computer you want to print the result."
   ]
  },
  {
   "cell_type": "code",
   "execution_count": null,
   "metadata": {
    "scrolled": true
   },
   "outputs": [],
   "source": [
    "# more expressions. what gets printed and what doesn't?\n",
    "100 / 10\n",
    "\n",
    "print(4.3 + 10.98)\n",
    "\n",
    "33 - 9 * (40000 + 1)"
   ]
  },
  {
   "cell_type": "markdown",
   "metadata": {},
   "source": [
    "Many basic arithmetic operations are built in to Python, like `*` (multiplication), `+` (addition), `-` (subtraction), and `/` (division). There are many others, which you can find information about [here](http://www.inferentialthinking.com/chapters/03/1/expressions.html). \n",
    "\n",
    "The computer evaluates arithmetic according to the PEMDAS order of operations (just like you probably learned in middle school): anything in parentheses is done first, followed by exponents, then multiplication and division, and finally addition and subtraction."
   ]
  },
  {
   "cell_type": "code",
   "execution_count": null,
   "metadata": {
    "scrolled": true
   },
   "outputs": [],
   "source": [
    "# before you run this cell, can you say what it should print?\n",
    "4 - 2 * (1 + 6 / 3)"
   ]
  },
  {
   "cell_type": "markdown",
   "metadata": {},
   "source": [
    "<div class=\"alert alert-info\">\n",
    "<b>PRACTICE:</b>Try writing and running different expressions in the cell below using numbers and the arithmetic operators `*` (multiplication), `+` (addition), `-` (subtraction), and `/` (division). See if you can generate different error messages and figure out what they mean.\n",
    "    </div>"
   ]
  },
  {
   "cell_type": "code",
   "execution_count": null,
   "metadata": {
    "scrolled": true
   },
   "outputs": [],
   "source": [
    "# Optional: try out different arithmetic operations\n"
   ]
  },
  {
   "cell_type": "markdown",
   "metadata": {},
   "source": [
    "### 1b. Names <a id='subsection 1b'></a>\n",
    "Sometimes, the values you work with can get cumbersome- maybe the expression that gives the value is very complicated, or maybe the value itself is long. In these cases it's useful to give the value a **name**.\n",
    "\n",
    "We can name values using what's called an *assignment* statement."
   ]
  },
  {
   "cell_type": "code",
   "execution_count": null,
   "metadata": {
    "scrolled": true
   },
   "outputs": [],
   "source": [
    "# assigns 442 to x\n",
    "x = 442"
   ]
  },
  {
   "cell_type": "markdown",
   "metadata": {},
   "source": [
    "The assignment statement has three parts. On the left is the *name* (`x`). On the right is the *value* (442). The *equals sign* in the middle tells the computer to assign the value to the name.\n",
    "\n",
    "You'll notice that when you run the cell with the assignment, it doesn't print anything. But, if we try to access `x` again in the future, it will have the value we assigned it."
   ]
  },
  {
   "cell_type": "code",
   "execution_count": null,
   "metadata": {
    "scrolled": true
   },
   "outputs": [],
   "source": [
    "# print the value of x\n",
    "x"
   ]
  },
  {
   "cell_type": "markdown",
   "metadata": {},
   "source": [
    "You can also assign names to expressions. The computer will compute the expression and assign the name to the result of the computation."
   ]
  },
  {
   "cell_type": "code",
   "execution_count": null,
   "metadata": {
    "scrolled": true
   },
   "outputs": [],
   "source": [
    "y = 50 * 2 + 1\n",
    "y"
   ]
  },
  {
   "cell_type": "markdown",
   "metadata": {},
   "source": [
    "We can then use these name as if they were numbers."
   ]
  },
  {
   "cell_type": "code",
   "execution_count": null,
   "metadata": {
    "scrolled": true
   },
   "outputs": [],
   "source": [
    "x - 42"
   ]
  },
  {
   "cell_type": "code",
   "execution_count": null,
   "metadata": {
    "scrolled": true
   },
   "outputs": [],
   "source": [
    "x + y"
   ]
  },
  {
   "cell_type": "markdown",
   "metadata": {},
   "source": [
    "### 1c. Order of Operation <a id='subsection 1c'></a>\n",
    "Just as you've seen in your standard math classes, there are orders of operations to when executing code. Recall **PEMDAS**: when you run code, it will calculate components of the expression in the following order:\n",
    "1. **P**arenthesis\n",
    "2. **E**xponents\n",
    "3. **M**ultiplication or **D**ivision\n",
    "4. **A**ddition or **S**ubtraction\n",
    "\n",
    "<div class=\"alert alert-info\">\n",
    "<b>PRACTICE:</b> What are the orders of operations for the following two code cells? Will they output the same number, or should they be different?\n",
    "    </div>"
   ]
  },
  {
   "cell_type": "code",
   "execution_count": null,
   "metadata": {
    "scrolled": true
   },
   "outputs": [],
   "source": [
    "# Example 1\n",
    "(x + y) * 2 - y"
   ]
  },
  {
   "cell_type": "code",
   "execution_count": null,
   "metadata": {
    "scrolled": true
   },
   "outputs": [],
   "source": [
    "# Example 2\n",
    "x + y * 2 - y"
   ]
  },
  {
   "cell_type": "markdown",
   "metadata": {},
   "source": [
    "*Optional: YOUR ANSWER HERE*"
   ]
  },
  {
   "cell_type": "markdown",
   "metadata": {},
   "source": [
    "<div class=\"alert alert-warning\">\n",
    "<b>**EXERCISE**:</b> In Friday's lab, we will calculate a metric called **percent change**. We'll go over what this means on Friday, so don't worry about its definition for now. We've provided you the percent change formula and assigned values to the variables `original` and `new` -- calculate the percent change of the *new* value from the *original* value.\n",
    "</div>\n",
    "\n",
    "$$PercentChange = \\dfrac{NewValue - OriginalValue}{OriginalValue} * 100$$\n"
   ]
  },
  {
   "cell_type": "code",
   "execution_count": null,
   "metadata": {
    "scrolled": true
   },
   "outputs": [],
   "source": [
    "# Percent Change\n",
    "\n",
    "original = 2\n",
    "new = 5\n",
    "\n",
    "..."
   ]
  },
  {
   "cell_type": "markdown",
   "metadata": {},
   "source": [
    "### 1d. Dot Notation <a id='subsection 1d'></a>\n",
    "Python has a lot of [built-in functions](https://docs.python.org/3/library/functions.html) (that is, functions that are already named and defined in Python), but even more functions are stored in collections called *modules*. Earlier, we imported the `math` module so we could use it later. Once a module is imported, you can use its functions by typing the name of the module, then the name of the function you want from it, separated with a `.`."
   ]
  },
  {
   "cell_type": "code",
   "execution_count": null,
   "metadata": {
    "scrolled": true
   },
   "outputs": [],
   "source": [
    "# a call expression with the factorial function from the math module\n",
    "math.factorial(5)"
   ]
  },
  {
   "cell_type": "markdown",
   "metadata": {},
   "source": [
    "<div class=\"alert alert-warning\">\n",
    "**EXERCISE:**  `math` also has a function called `sqrt` that takes one argument and returns the square root. Call `sqrt` on 16 in the next cell.\n",
    "</div>"
   ]
  },
  {
   "cell_type": "code",
   "execution_count": null,
   "metadata": {
    "scrolled": true
   },
   "outputs": [],
   "source": [
    "# use math.sqrt to get the square root of 16\n",
    "..."
   ]
  },
  {
   "cell_type": "markdown",
   "metadata": {},
   "source": [
    "## 2. Tables <a id='section 2'></a>\n",
    "\n",
    "The last section covered four basic concepts of python: data, expressions, names, and functions. In this next section, we'll see just how much we can do to examine and manipulate our data with only these minimal Python skills."
   ]
  },
  {
   "cell_type": "markdown",
   "metadata": {},
   "source": [
    "**Tables** are fundamental ways of organizing and displaying data. Run the next cell to load the water networks data we will be using in lab this Friday. Don't worry too much about what the columns mean -- we will cover this thoroughly in lab. For now, we'll use this data to get practice using the functions we've provided below. Run the following cell to load and view the data:"
   ]
  },
  {
   "cell_type": "code",
   "execution_count": null,
   "metadata": {
    "scrolled": true
   },
   "outputs": [],
   "source": [
    "networks = Table.read_table(\"./data/network.csv\")\n",
    "networks"
   ]
  },
  {
   "cell_type": "markdown",
   "metadata": {},
   "source": [
    "This table is organized into **columns**: one for each *category* of information collected:\n",
    "\n",
    "You can also think about the table in terms of its **rows**. Each row represents all the information collected about a particular instance, which can be a person, location, action, or other unit. \n",
    "\n",
    "What do the rows in this table represent?\n",
    "\n",
    "By default only the first ten rows are shown. Can you see how many rows there are in total?"
   ]
  },
  {
   "cell_type": "markdown",
   "metadata": {},
   "source": [
    "## 2a. Table Transformation <a id='subsection 2a'></a>\n",
    "\n",
    "Not all of our columns are relevant to every question we want to ask. We can save computational resources and avoid confusion by *transforming* our table before we start work.\n",
    "\n",
    "### i. Subsetting columns with `select` and `drop`\n",
    "The `select` function is used to get a table containing only particular columns. `select` is called on a table using **dot notation** and takes one or more arguments: the name or names of the column or columns you want."
   ]
  },
  {
   "cell_type": "code",
   "execution_count": null,
   "metadata": {},
   "outputs": [],
   "source": [
    "networks"
   ]
  },
  {
   "cell_type": "code",
   "execution_count": null,
   "metadata": {
    "scrolled": true
   },
   "outputs": [],
   "source": [
    "# make a new table with only selected columns\n",
    "networks.select(\"source\", \"target\",\"year\")"
   ]
  },
  {
   "cell_type": "markdown",
   "metadata": {},
   "source": [
    "If instead you need all columns except a few, the `drop` function can get rid of specified columns. `drop` works very similarly to `select`: call it on the table using dot notation, then give it the name or names of what you want to drop."
   ]
  },
  {
   "cell_type": "code",
   "execution_count": null,
   "metadata": {
    "scrolled": true
   },
   "outputs": [],
   "source": [
    "# drop a column\n",
    "networks.drop(\"transmission_kwh/af\", \"source\")"
   ]
  },
  {
   "cell_type": "markdown",
   "metadata": {},
   "source": [
    "<div class=\"alert alert-warning\">\n",
    "<b>EXERCISE:</b> Pick two columns from our table. Create a new table containing only those two columns two different ways: once using `select` and once using `drop`. \n",
    "</div>"
   ]
  },
  {
   "cell_type": "code",
   "execution_count": null,
   "metadata": {
    "scrolled": true
   },
   "outputs": [],
   "source": [
    "# use select\n",
    "networks.select(...)"
   ]
  },
  {
   "cell_type": "code",
   "execution_count": null,
   "metadata": {
    "scrolled": true
   },
   "outputs": [],
   "source": [
    "# use drop\n",
    "networks.drop(...)\n",
    "\n",
    "# can you figure out a different way to drop 2 columns?\n",
    "networks.drop(...).drop(...)"
   ]
  },
  {
   "cell_type": "markdown",
   "metadata": {},
   "source": [
    "### ii. Selecting a specific column with `.column()` \n",
    "\n",
    "The **`.column()`** function takes in a column name, selects that column and extracts the values of the column as an **array**. This allows us to take values out of a table and use them for calculations or plotting graphs (which we will get to at the end).\n",
    "\n",
    "We call the `.column()` function like so: `table_name.column(\"column_name\")`."
   ]
  },
  {
   "cell_type": "code",
   "execution_count": null,
   "metadata": {
    "scrolled": true
   },
   "outputs": [],
   "source": [
    "#return the values in a column\n",
    "networks.column(\"target\")"
   ]
  },
  {
   "cell_type": "markdown",
   "metadata": {},
   "source": [
    "### iii. Filtering rows with `.where()`\n",
    "Tables can contain hundreds of thousands of entries, but most of the time we only want to look at a subset of that information. For example, our networks data contains information from 2010, 2015 and predicted 2015. However, say we were only interested in what the water system in California looked like in 2010. We can use the `.where()` function to filter the data so that the rows are all data from 2010.\n",
    "\n",
    "The **`where`** function allows us to choose certain rows based on two arguments:\n",
    "- A column name you want to filter on\n",
    "- A condition that each row should match, called the _predicate_ \n",
    "\n",
    "In other words, we call the `.where()` function like so: `table_name.where(column_name, satisfies_predicate_condition)`.\n"
   ]
  },
  {
   "cell_type": "code",
   "execution_count": null,
   "metadata": {
    "scrolled": true
   },
   "outputs": [],
   "source": [
    "# get a subset of rows\n",
    "networks.where(\"year\", are.equal_to(\"2015\"))"
   ]
  },
  {
   "cell_type": "markdown",
   "metadata": {},
   "source": [
    "Notice that the entries in the year column are **texts**, not numbers. This is because one of the values is \"Predicted 2015\" which has to be text -- to keep the type of values in the year column consistent, every value is text."
   ]
  },
  {
   "cell_type": "markdown",
   "metadata": {},
   "source": [
    "If you are curious, there are many types of predicates. Some of the more common ones are:\n",
    "\n",
    "|Predicate|Example|Result|\n",
    "|-|-|-|\n",
    "|`are.equal_to`|`are.equal_to(50)`|Find rows with values equal to 50|\n",
    "|`are.not_equal_to`|`are.not_equal_to(50)`|Find rows with values not equal to 50|\n",
    "|`are.above`|`are.above(50)`|Find rows with values above (and not equal to) 50|\n",
    "|`are.above_or_equal_to`|`are.above_or_equal_to(50)`|Find rows with values above 50 or equal to 50|\n",
    "|`are.below`|`are.below(50)`|Find rows with values below 50|\n",
    "|`are.between`|`are.between(2, 10)`|Find rows with values above or equal to 2 and below 10|\n",
    "\n",
    "The only predicate you will need to know for the lab is the first one: `are.equal_to()`. You will use this to filter the data to contain **only** your assigned utility code as the target, or to filter data for a specific year.\n",
    "\n",
    "\n",
    "<div class=\"alert alert-warning\">\n",
    "<b>EXERCISE:</b> Say we wanted to look at the the water network around the Cerritos Utility (utility code: 1807057E). We want to filter the 'target' column to contain only the utility code associated with the Cerritos Utility. Using the `.where()` function, do this below.\n",
    "</div>"
   ]
  },
  {
   "cell_type": "code",
   "execution_count": null,
   "metadata": {
    "scrolled": true
   },
   "outputs": [],
   "source": [
    "networks.where(...)"
   ]
  },
  {
   "cell_type": "markdown",
   "metadata": {},
   "source": [
    "### iv. Aggregating across Categories with `.group()` \n",
    "\n",
    "In most cases, the columns of your table can be thought of as **categories**: a subject's preferred gender, level of education, area of study, etc. When we have lots of data collected for each category, we often want to calculate \"summary statistics\" on them to understand how each category differ from one another. This summary statistic could be as simple as the total number (sum) of values recorded for each category, which is what we will use in this class. You'll see what we mean in a second: run the following cell to output a table of snacks!"
   ]
  },
  {
   "cell_type": "code",
   "execution_count": null,
   "metadata": {
    "scrolled": true
   },
   "outputs": [],
   "source": [
    "# Don't worry about the code here -- simply run this cell!\n",
    "snacks = Table().with_columns(\"Item\", make_array(\"Oreo\", \"Cupcake\", \"Ice Cream\", \"Oreo\", \"Cupcake\", \"Ice Cream\"),\n",
    "                    \"Flavor\", make_array(\"Vanilla\", \"Chocolate\", \"Vanilla\", \"Chocolate\", \"Vanilla\", \"Chocolate\"),\n",
    "                    \"Number\", make_array(6, 3, 2, 10, 3, 6))\n",
    "\n",
    "snacks"
   ]
  },
  {
   "cell_type": "markdown",
   "metadata": {},
   "source": [
    "In this example, it is easy to identify the categories. The `Item` column has three categories \"Oreo\", \"Cupcake\" and \"Ice Cream\", while the `Flavor` column has two categories \"Vanilla\" and \"Chocolate\". The `Number` column contains the number of each Item/Flavor combination you have.\n",
    "\n",
    "If you wanted to calculate the **how many of each Flavor you have**, how would you do it? In this small table, it's easy to pick out the Number associated with each Chocolate Flavor and add them up: $3+10+6=19$ and then pick out the Number associated with each Vanilla Flavor and add them up: $6+2+3=11$. However, this gets extremely tedious very fast as the number of rows in a table get larger and larger. That's where the `.group()` function comes in.\n",
    "\n",
    "\n",
    "**`.group(\"column_name\", function)`** takes in two inputs:\n",
    "\n",
    "    - the column with the categories you want to \"group\"\n",
    "    - an \"aggregation function\", or what you want to calculate from the values of each category\n",
    "    \n",
    "For our purposes, the only aggregation function we will be using is `sum`.\n",
    "It will then output a table with the desired calculation for each unique group. Because the functions takes the sum of all values across all tables, you will notice that not all columns will have values: if a column doesn't contain numerical values, then it cannot add so it will simply leave it blank.\n",
    "\n",
    "<img src=\"images/Group.PNG\" width=\"800\" height=\"800\">\n"
   ]
  },
  {
   "cell_type": "code",
   "execution_count": null,
   "metadata": {
    "scrolled": true
   },
   "outputs": [],
   "source": [
    "# Fill in the ... to verify the answers we got above\n",
    "snacks.group(\"Flavor\", sum)"
   ]
  },
  {
   "cell_type": "markdown",
   "metadata": {},
   "source": [
    "<div class=\"alert alert-info\">\n",
    "<b>PRACTICE:</b> How many total of each Snack Item are there? I.e. How many total Oreos, total ice creams, and total cookies do you have?\n",
    "    </div>"
   ]
  },
  {
   "cell_type": "code",
   "execution_count": null,
   "metadata": {
    "scrolled": true
   },
   "outputs": [],
   "source": [
    "snacks.group(\"Item\", sum)"
   ]
  },
  {
   "cell_type": "markdown",
   "metadata": {},
   "source": [
    "### IMPORTANT: \n",
    "\n",
    "Notice that calling these transformation methods **do not change the original table**. If you call the table `networks` again, it will contain all the original columns. This is because the functions here **make a NEW table out of the original table**. If you want these changes to be reflected in your original table, you will have to **reassign** your orginal table name to that change:"
   ]
  },
  {
   "cell_type": "code",
   "execution_count": null,
   "metadata": {
    "scrolled": false
   },
   "outputs": [],
   "source": [
    "# The original table has not changed\n",
    "networks"
   ]
  },
  {
   "cell_type": "code",
   "execution_count": null,
   "metadata": {
    "scrolled": false
   },
   "outputs": [],
   "source": [
    "# After reassigning the name of the table to the new transformed function, changes are reflected\n",
    "networks = networks.drop(...)\n",
    "networks"
   ]
  },
  {
   "cell_type": "markdown",
   "metadata": {},
   "source": [
    "## 3. Barplots <a id='section 3'></a>\n",
    "\n",
    "It's difficult to understand trends in data without visual aid. In this section, we'll use made up data and plot bar plots of that data."
   ]
  },
  {
   "cell_type": "markdown",
   "metadata": {},
   "source": [
    "#### Making bar graphs\n",
    "The Table object also has a **`.bar()`** function (dot notation) which is used to plot bar charts for the table. The `.bar()` function only takes in one value: the name of the column of the table containing the x-axis categories.\n",
    "\n",
    "In our very simple case, our Category (animal) column will contain just 3 unique categories; the Value (weight) column will contain the weights of those categories. Note that the category column can contain either text or numbers, but the value column must contain numbers.\n",
    "\n",
    "Don't worry about the code that constructs the code below: simply run the cell.\n"
   ]
  },
  {
   "cell_type": "code",
   "execution_count": null,
   "metadata": {
    "scrolled": true
   },
   "outputs": [],
   "source": [
    "#create a new table\n",
    "table = Table().with_columns('Animal',make_array('Cat','Toy Poodle', 'Raven'), \n",
    "                             'Weight', make_array(20, 16, 3.2))\n",
    "table"
   ]
  },
  {
   "cell_type": "markdown",
   "metadata": {},
   "source": [
    "Can you imagine what the bar plot for this very simple table will look like? Fill in the '...' below to output your barplot."
   ]
  },
  {
   "cell_type": "code",
   "execution_count": null,
   "metadata": {
    "scrolled": true
   },
   "outputs": [],
   "source": [
    "#graph a bar graph with type as a variable and values as y variable.\n",
    "#parameter takes in the x-axis categories.\n",
    "\n",
    "table.bar(...)\n",
    "\n",
    "\n",
    "\n",
    "####*** IGNORE (here for aesthetics)***####\n",
    "plt.xticks(np.arange(3),['Cat', 'Toy Poodle','Raven'],rotation=0)\n",
    "plt.ylabel('Weight (lbs)')\n",
    "plt.title('Barplot of Weights for Each Animal');\n",
    "\n",
    "\n"
   ]
  },
  {
   "cell_type": "markdown",
   "metadata": {},
   "source": [
    "<div class=\"alert alert-warning\">\n",
    "<b> EXERCISE:</b> Can you try your making your own bar graph? Fill in the blank.\n",
    "</div>"
   ]
  },
  {
   "cell_type": "code",
   "execution_count": null,
   "metadata": {
    "scrolled": true
   },
   "outputs": [],
   "source": [
    "#new table for the exercise\n",
    "newtable = Table().with_columns('Animal',make_array('Cat','Dog','Rabbit','Turtle','Bear'), \n",
    "                             'Weight', make_array(20, 50, 15, 50, 100))\n",
    "\n",
    "...\n",
    "\n",
    "#ignore this.\n",
    "plt.xticks(np.arange(5),['Cat','Dog','Rabbit','Turtle','Bear'],rotation=0);\n",
    "plt.ylabel('Weight (lbs)')\n",
    "plt.title('Barplot of Weights for Each Animal');\n"
   ]
  },
  {
   "cell_type": "markdown",
   "metadata": {},
   "source": [
    "**Congratulations!** You have finished your first lab in a Jupyter Notebook. We highly recommend going over these concepts (especially the Table functions!) before the lecture on Friday since we will be employing these skills to analyze the California Water Systems. If you had trouble understanding the concepts above, there are resources set in place to help! **Data Science Peer Consulting** offers office hours run by Data Science students on the **3rd floor of Moffitt Library**. Meet the peer consultants and [view their office hours schedule here](https://data.berkeley.edu/education/data-peer-consulting). They are a great resource, so take advantage of their expertise!\n",
    "\n",
    "#### References\n",
    "\n",
    "- Sections of \"Intro to Jupyter\", \"Table Transformation\" adapted from materials by Kelly Chen and Ashley Chien in [UC Berkeley Data Science Modules core resources](http://github.com/ds-modules/core-resources)\n",
    "- \"A Note on Errors\" subsection and \"error\" image adapted from materials by Chris Hench and Mariah Rogers for the Medieval Studies 250: Text Analysis for Graduate Medievalists [data science module](https://github.com/ds-modules/MEDST-250).\n",
    "- Rocket Fuel data and discussion questions adapted from materials by Zsolt Katona and Brian Bell, BerkeleyHaas Case Series"
   ]
  },
  {
   "cell_type": "markdown",
   "metadata": {},
   "source": [
    "Author: Keeley Takimoto, Mina Kim, Keiko Kamei"
   ]
  }
 ],
 "metadata": {
  "kernelspec": {
   "display_name": "Python 3",
   "language": "python",
   "name": "python3"
  },
  "language_info": {
   "codemirror_mode": {
    "name": "ipython",
    "version": 3
   },
   "file_extension": ".py",
   "mimetype": "text/x-python",
   "name": "python",
   "nbconvert_exporter": "python",
   "pygments_lexer": "ipython3",
   "version": "3.6.9"
  }
 },
 "nbformat": 4,
 "nbformat_minor": 2
}
